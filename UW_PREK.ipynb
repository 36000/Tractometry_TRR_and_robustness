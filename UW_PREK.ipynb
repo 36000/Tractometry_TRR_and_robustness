{
 "cells": [
  {
   "cell_type": "code",
   "execution_count": null,
   "metadata": {},
   "outputs": [],
   "source": [
    "import os\n",
    "from urllib.request import urlretrieve"
   ]
  },
  {
   "cell_type": "code",
   "execution_count": null,
   "metadata": {},
   "outputs": [],
   "source": [
    "os.makedirs('uw_prek', exist_ok=True)"
   ]
  },
  {
   "cell_type": "code",
   "execution_count": null,
   "metadata": {},
   "outputs": [],
   "source": [
    "for dataset in ['pyAFQ_pre', 'pyAFQ_post', 'mAFQ_pre', 'mAFQ_post']:\n",
    "    url = f\"https://raw.githubusercontent.com/yeatmanlab/UW_PREK_{dataset}_browser/gh-pages/data/nodes.csv\"\n",
    "    urlretrieve(url, f\"uw_prek/{dataset}_profiles.csv\")"
   ]
  },
  {
   "cell_type": "code",
   "execution_count": null,
   "metadata": {
    "scrolled": true
   },
   "outputs": [],
   "source": [
    "import AFQ.viz.utils as vut\n",
    "from importlib import reload\n",
    "import logging\n",
    "reload(vut)\n",
    "comparisons = vut.GroupCSVComparison(\n",
    "    'prek-CSVs',\n",
    "    ['./uw_prek/pyAFQ_pre_profiles.csv', './uw_prek/pyAFQ_post_profiles.csv',\n",
    "     './uw_prek/mAFQ_pre_profiles.csv', './uw_prek/mAFQ_post_profiles.csv'],\n",
    "    ['pyAFQ-pre', 'pyAFQ-post', 'mAFQ-pre', 'mAFQ-post'],\n",
    "    is_special=[\"\", \"\", \"mat\", \"mat\"])\n",
    "comparisons.logger.setLevel(logging.WARNING)"
   ]
  },
  {
   "cell_type": "code",
   "execution_count": null,
   "metadata": {},
   "outputs": [],
   "source": [
    "# pyAFQ vs mAFQ robustness\n",
    "comparisons.contrast_index(names=['pyAFQ-pre', 'mAFQ-pre'], show_plots=True)\n",
    "comparisons.reliability_plots(names=['pyAFQ-pre', 'mAFQ-pre'], rtype=\"Robustness\", show_plots=True)\n",
    "pass"
   ]
  },
  {
   "cell_type": "code",
   "execution_count": null,
   "metadata": {},
   "outputs": [],
   "source": [
    "_, _, py_miss_counts, py_bundles, py_intersubject_rels, py_intersubject_rels_err, py_profile_rels, py_profile_rels_err =\\\n",
    "    comparisons.reliability_plots(names=['pyAFQ-pre', 'pyAFQ-post'],\n",
    "                                  rotate_y_labels=True)\n",
    "_, _, m_miss_counts, m_bundles, m_intersubject_rels, m_intersubject_rels_err, m_profile_rels, m_profile_rels_err =\\\n",
    "    comparisons.reliability_plots(names=['mAFQ-pre', 'mAFQ-post'],\n",
    "                                  rotate_y_labels=True)\n",
    "comparisons.compare_reliability(\n",
    "    py_profile_rels, m_profile_rels, \"pyAFQ\", \"mAFQ\", py_bundles, rtype=\"Profile TRR\", show_plots=True, show_legend=False)\n",
    "comparisons.compare_reliability(\n",
    "    py_intersubject_rels, m_intersubject_rels, \"pyAFQ\", \"mAFQ\", py_bundles, rtype=\"Subject TRR\", show_plots=True, show_legend=False)"
   ]
  }
 ],
 "metadata": {
  "kernelspec": {
   "display_name": "Python 3",
   "language": "python",
   "name": "python3"
  },
  "language_info": {
   "codemirror_mode": {
    "name": "ipython",
    "version": 3
   },
   "file_extension": ".py",
   "mimetype": "text/x-python",
   "name": "python",
   "nbconvert_exporter": "python",
   "pygments_lexer": "ipython3",
   "version": "3.7.7"
  }
 },
 "nbformat": 4,
 "nbformat_minor": 2
}
